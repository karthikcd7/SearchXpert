{
 "cells": [
  {
   "cell_type": "code",
   "execution_count": 85,
   "metadata": {},
   "outputs": [],
   "source": [
    "import email\n",
    "from bs4 import BeautifulSoup\n",
    "from tqdm import tqdm\n",
    "import numpy as np\n",
    "import pandas as pd\n",
    "import re\n",
    "from sklearn.model_selection import train_test_split\n",
    "from sklearn.feature_extraction.text import CountVectorizer\n",
    "from sklearn.datasets import dump_svmlight_file\n",
    "from sklearn.linear_model import LogisticRegression\n",
    "from sklearn.metrics import roc_auc_score\n",
    "from sklearn.tree import DecisionTreeClassifier\n",
    "from sklearn.naive_bayes import MultinomialNB"
   ]
  },
  {
   "cell_type": "code",
   "execution_count": 86,
   "metadata": {},
   "outputs": [],
   "source": [
    "def read_index(path):\n",
    "    with open(path, 'r') as f:\n",
    "        content = f.readlines()\n",
    "    return content"
   ]
  },
  {
   "cell_type": "code",
   "execution_count": 87,
   "metadata": {},
   "outputs": [],
   "source": [
    "def get_body(email_string):\n",
    "    msg = email.message_from_string(email_string)\n",
    "    body = \"\"\n",
    "\n",
    "    if msg.is_multipart():\n",
    "        for part in msg.walk():\n",
    "            if part.get_content_type() == \"text/plain\":\n",
    "                body += part.get_payload(decode=True).decode(\"utf-8\", \"ignore\")\n",
    "            elif part.get_content_type() == \"text/html\":\n",
    "                html_content = part.get_payload(decode=True).decode(\"utf-8\", \"ignore\")\n",
    "                soup = BeautifulSoup(html_content, \"html.parser\")\n",
    "                body += soup.get_text()\n",
    "    else:\n",
    "        body = msg.get_payload(decode=True).decode(\"utf-8\", \"ignore\")\n",
    "    body = re.sub(r'[^a-zA-Z ]', '', body.lower())\n",
    "    return body"
   ]
  },
  {
   "cell_type": "code",
   "execution_count": 88,
   "metadata": {},
   "outputs": [],
   "source": [
    "def create_dataset(path):\n",
    "    index_content = read_index(path)\n",
    "    dataset = {}\n",
    "    counter = 0\n",
    "    for line in tqdm(index_content):\n",
    "        line_content = line.split()\n",
    "        label = line_content[0]\n",
    "        path = '../trec07p'+ line_content[1][2:]\n",
    "        doc_id = path[path.find('inmail.')+7:]\n",
    "        with open(path, 'r', errors='ignore') as f:\n",
    "            raw_content = f.read()\n",
    "        body = get_body(raw_content)\n",
    "        dataset[doc_id] = {'label': label, 'body': body}\n",
    "        counter+=1\n",
    "    df = pd.DataFrame.from_dict(dataset, orient='index')\n",
    "    df.to_csv('dataset.csv')\n",
    "    return df"
   ]
  },
  {
   "cell_type": "code",
   "execution_count": 89,
   "metadata": {},
   "outputs": [
    {
     "name": "stderr",
     "output_type": "stream",
     "text": [
      " 76%|███████▌  | 57210/75419 [00:36<00:10, 1759.67it/s]/var/folders/x4/d8y9fk1d22v8jm_mptcbdvv40000gn/T/ipykernel_33953/4117992884.py:11: MarkupResemblesLocatorWarning: The input looks more like a filename than markup. You may want to open this file and pass the filehandle into Beautiful Soup.\n",
      "  soup = BeautifulSoup(html_content, \"html.parser\")\n",
      "100%|██████████| 75419/75419 [00:48<00:00, 1565.16it/s]\n"
     ]
    }
   ],
   "source": [
    "path = '../trec07p/full/index'\n",
    "\n",
    "df = create_dataset(path)"
   ]
  },
  {
   "cell_type": "code",
   "execution_count": 90,
   "metadata": {},
   "outputs": [],
   "source": [
    "\n",
    "x_train, x_test, y_train, y_test = train_test_split(df['body'], df['label'], test_size=0.2, random_state=42)"
   ]
  },
  {
   "cell_type": "code",
   "execution_count": 91,
   "metadata": {},
   "outputs": [],
   "source": [
    "for index, v in x_test.items():\n",
    "    if x_test[index] == 'spam':\n",
    "        x_test[index] = '1'\n",
    "    elif x_test[index] == 'ham':\n",
    "        x_test[index] = '0'\n",
    "\n",
    "for index, v in y_test.items():\n",
    "    if y_test[index] == 'spam':\n",
    "        y_test[index] = '1'\n",
    "    elif y_test[index] == 'ham':\n",
    "        y_test[index] = '0'\n",
    "    "
   ]
  },
  {
   "cell_type": "code",
   "execution_count": 92,
   "metadata": {},
   "outputs": [
    {
     "name": "stdout",
     "output_type": "stream",
     "text": [
      "60335 15084\n",
      "73597    on  dennis schridde devurandomgmxnet wrote is ...\n",
      "59513           involve     other     candidate     is ...\n",
      "19707    hi everybody does anyone know a function to co...\n",
      "25671    uhusncmpmtvufkg zhaiaalclpnphfhuffurjwndu ifqs...\n",
      "58058    fidelity investments international cannon stre...\n",
      "                               ...                        \n",
      "37195    on  spilakjacqueline edm jacquelinespilakecgcc...\n",
      "6266     htmlheadtitlemouvement desjardinstitlestyle ty...\n",
      "54887    seize the opportunity  anatrim  the newest and...\n",
      "861      buy musthave pills and save upto  all popular ...\n",
      "15796    we are one of few pharmacies that really do re...\n",
      "Name: body, Length: 60335, dtype: object \n",
      "\n",
      " 73597     ham\n",
      "59513    spam\n",
      "19707     ham\n",
      "25671    spam\n",
      "58058    spam\n",
      "         ... \n",
      "37195     ham\n",
      "6266     spam\n",
      "54887    spam\n",
      "861      spam\n",
      "15796    spam\n",
      "Name: label, Length: 60335, dtype: object\n"
     ]
    }
   ],
   "source": [
    "print(len(x_train), len(x_test))\n",
    "\n",
    "print(x_train, '\\n\\n', y_train)"
   ]
  },
  {
   "cell_type": "code",
   "execution_count": 93,
   "metadata": {},
   "outputs": [],
   "source": [
    "manual_features = {\"free\", \"win\", \"porn\", \"click here\", \"earn money\", \"get rich\", \"weight loss\",\n",
    "                    \"free gift\", \"amazing deal\", \"act now\", \"limited time\", \"no obligation\",\n",
    "                    \"no risk\", \"no catch\", \"no purchase necessary\", \"call free\", \"toll free\",\n",
    "                    \"urgent\", \"password\", \"credit card\", \"verification\", \"apply now\",\n",
    "                    \"viagra\", \"pharmacy\", \"prescription\", \"medicine\",\n",
    "                    \"cheap\", \"discount\", \"make money\", \"work from home\", \"lose weight\",\n",
    "                    \"online degree\", \"million dollar\", \"opportunity\", \"opt-in\", \"opt-out\",\n",
    "                    \"unsubscribe\", \"remove\", \"cialis\", \"phentermine\", \"valium\",\n",
    "                    \"vicodin\", \"xanax\", \"herbal\", \"drugs\", \"investment\", \"stock\",\n",
    "                    \"money back\", \"guarantee\", \"earn extra cash\", \"home business\"\n",
    "                    }"
   ]
  },
  {
   "cell_type": "code",
   "execution_count": 94,
   "metadata": {},
   "outputs": [],
   "source": [
    "# Part1: Trial A\n",
    "\n",
    "manual_trial_a_vectorizer = CountVectorizer(vocabulary=manual_features)\n",
    "manual_trail_a_x_train = manual_trial_a_vectorizer.fit_transform(x_train)\n",
    "manual_trial_a_x_test = manual_trial_a_vectorizer.transform(x_test)"
   ]
  },
  {
   "cell_type": "code",
   "execution_count": 95,
   "metadata": {},
   "outputs": [
    {
     "name": "stdout",
     "output_type": "stream",
     "text": [
      "ROC AUC score of Logistic Regression Model:  0.7002037656074868\n"
     ]
    }
   ],
   "source": [
    "lr = LogisticRegression(penalty='l1', solver='liblinear')\n",
    "lr.fit(manual_trail_a_x_train, y_train)\n",
    "proba_predictions = lr.predict_proba(manual_trial_a_x_test)[:,1]\n",
    "print(\"ROC AUC score of Logistic Regression Model: \", roc_auc_score(y_test, proba_predictions))"
   ]
  },
  {
   "cell_type": "code",
   "execution_count": 96,
   "metadata": {},
   "outputs": [
    {
     "name": "stdout",
     "output_type": "stream",
     "text": [
      "ROC AUC score of Decision Tree Model:  0.7251677698194513\n"
     ]
    }
   ],
   "source": [
    "dt = DecisionTreeClassifier()\n",
    "dt.fit(manual_trail_a_x_train, y_train)\n",
    "dty_probs = dt.predict_proba(manual_trial_a_x_test)[:,1]\n",
    "print(\"ROC AUC score of Decision Tree Model: \", roc_auc_score(y_test, dty_probs))"
   ]
  },
  {
   "cell_type": "code",
   "execution_count": 97,
   "metadata": {},
   "outputs": [
    {
     "name": "stdout",
     "output_type": "stream",
     "text": [
      "ROC AUC score of Naive Bayes Model:  0.6919126000626593\n"
     ]
    }
   ],
   "source": [
    "nb = MultinomialNB()\n",
    "nb.fit(manual_trail_a_x_train, y_train)\n",
    "nb_probs = nb.predict_proba(manual_trial_a_x_test)[:,1]\n",
    "print(\"ROC AUC score of Naive Bayes Model: \", roc_auc_score(y_test, nb_probs))"
   ]
  },
  {
   "cell_type": "code",
   "execution_count": 98,
   "metadata": {},
   "outputs": [],
   "source": [
    "manual_provided_features = {\n",
    "    \"free\", \"spam\", \"click\", \"buy\", \"clearance\", \"shopper\", \"order\",\n",
    "    \"earn\", \"cash\", \"extra\", \"money\", \"double\", \"collect\", \"credit\",\n",
    "    \"check\", \"affordable\", \"fast\", \"price\", \"loans\", \"profit\", \"refinance\",\n",
    "    \"hidden\", \"freedom\", \"chance\", \"miracle\", \"lose\", \"home\", \"remove\",\n",
    "    \"success\", \"virus\", \"malware\", \"ad\", \"subscribe\", \"sales\", \"performance\",\n",
    "    \"viagra\", \"valium\", \"medicine\", \"diagnostics\", \"million\", \"join\", \"deal\",\n",
    "    \"unsolicited\", \"trial\", \"prize\", \"now\", \"legal\", \"bonus\", \"limited\",\n",
    "    \"instant\", \"luxury\", \"celebrity\", \"only\", \"compare\", \"win\",\n",
    "    \"viagra\", \"$$$\", \"$discount\", \"click here\", \"meet singles\", \"incredible deal\",\n",
    "    \"lose weight\", \"act now\", \"100% free\", \"fast cash\", \"million dollars\",\n",
    "    \"lower interest rate\", \"visit our website\", \"no credit check\"\n",
    "}"
   ]
  },
  {
   "cell_type": "code",
   "execution_count": 99,
   "metadata": {},
   "outputs": [],
   "source": [
    "# Part1: Trial B\n",
    "manual_trial_b_vectorizer = CountVectorizer(vocabulary=manual_provided_features)\n",
    "manual_trail_b_x_train = manual_trial_b_vectorizer.fit_transform(x_train)\n",
    "manual_trial_b_x_test = manual_trial_b_vectorizer.transform(x_test)"
   ]
  },
  {
   "cell_type": "code",
   "execution_count": 100,
   "metadata": {},
   "outputs": [
    {
     "name": "stdout",
     "output_type": "stream",
     "text": [
      "ROC AUC score of Logistic Regression Model:  0.7277892012458679\n"
     ]
    }
   ],
   "source": [
    "lr = LogisticRegression(penalty='l1', solver='liblinear')\n",
    "lr.fit(manual_trail_b_x_train, y_train)\n",
    "proba_predictions = lr.predict_proba(manual_trial_b_x_test)[:,1]\n",
    "print(\"ROC AUC score of Logistic Regression Model: \", roc_auc_score(y_test, proba_predictions))"
   ]
  },
  {
   "cell_type": "code",
   "execution_count": 101,
   "metadata": {},
   "outputs": [
    {
     "name": "stdout",
     "output_type": "stream",
     "text": [
      "ROC AUC score of Decision Tree Model:  0.8038175944564663\n"
     ]
    }
   ],
   "source": [
    "dt = DecisionTreeClassifier()\n",
    "dt.fit(manual_trail_b_x_train, y_train)\n",
    "dty_probs = dt.predict_proba(manual_trial_b_x_test)[:,1]\n",
    "print(\"ROC AUC score of Decision Tree Model: \", roc_auc_score(y_test, dty_probs))"
   ]
  },
  {
   "cell_type": "code",
   "execution_count": 102,
   "metadata": {},
   "outputs": [
    {
     "name": "stdout",
     "output_type": "stream",
     "text": [
      "ROC AUC score of Naive Bayes Model:  0.7191497789254213\n"
     ]
    }
   ],
   "source": [
    "nb = MultinomialNB()\n",
    "nb.fit(manual_trail_b_x_train, y_train)\n",
    "nb_probs = nb.predict_proba(manual_trial_b_x_test)[:,1]\n",
    "print(\"ROC AUC score of Naive Bayes Model: \", roc_auc_score(y_test, nb_probs))"
   ]
  },
  {
   "cell_type": "code",
   "execution_count": 103,
   "metadata": {},
   "outputs": [],
   "source": [
    "vectorizer = CountVectorizer(analyzer='word', min_df=0.001, max_df=0.995)\n",
    "fitted_x_train = vectorizer.fit_transform(x_train)\n",
    "transformed_x_test = vectorizer.transform(x_test)"
   ]
  },
  {
   "cell_type": "code",
   "execution_count": 104,
   "metadata": {},
   "outputs": [
    {
     "name": "stdout",
     "output_type": "stream",
     "text": [
      "ROC AUC score of Logistic Regression Model:  0.9959461013149679\n"
     ]
    }
   ],
   "source": [
    "lr = LogisticRegression(penalty='l1', solver='liblinear')\n",
    "lr.fit(fitted_x_train, y_train)\n",
    "proba_predictions = lr.predict_proba(transformed_x_test)[:,1]\n",
    "print(\"ROC AUC score of Logistic Regression Model: \", roc_auc_score(y_test, proba_predictions))"
   ]
  },
  {
   "cell_type": "code",
   "execution_count": 105,
   "metadata": {},
   "outputs": [
    {
     "name": "stdout",
     "output_type": "stream",
     "text": [
      "ROC AUC score of Decision Tree Model:  0.9842161007083023\n"
     ]
    }
   ],
   "source": [
    "dt = DecisionTreeClassifier()\n",
    "dt.fit(fitted_x_train, y_train)\n",
    "dty_probs = dt.predict_proba(transformed_x_test)[:,1]\n",
    "print(\"ROC AUC score of Decision Tree Model: \", roc_auc_score(y_test, dty_probs))"
   ]
  },
  {
   "cell_type": "code",
   "execution_count": 106,
   "metadata": {},
   "outputs": [
    {
     "name": "stdout",
     "output_type": "stream",
     "text": [
      "ROC AUC score of Naive Bayes Model:  0.9893433308517342\n"
     ]
    }
   ],
   "source": [
    "nb = MultinomialNB()\n",
    "nb.fit(fitted_x_train, y_train)\n",
    "nb_probs = nb.predict_proba(transformed_x_test)[:,1]\n",
    "print(\"ROC AUC score of Naive Bayes Model: \", roc_auc_score(y_test, nb_probs))"
   ]
  },
  {
   "cell_type": "code",
   "execution_count": null,
   "metadata": {},
   "outputs": [],
   "source": []
  },
  {
   "cell_type": "code",
   "execution_count": null,
   "metadata": {},
   "outputs": [],
   "source": []
  }
 ],
 "metadata": {
  "kernelspec": {
   "display_name": "Python 3",
   "language": "python",
   "name": "python3"
  },
  "language_info": {
   "codemirror_mode": {
    "name": "ipython",
    "version": 3
   },
   "file_extension": ".py",
   "mimetype": "text/x-python",
   "name": "python",
   "nbconvert_exporter": "python",
   "pygments_lexer": "ipython3",
   "version": "3.12.2"
  }
 },
 "nbformat": 4,
 "nbformat_minor": 2
}
